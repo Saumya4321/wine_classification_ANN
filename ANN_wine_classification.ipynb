{
  "nbformat": 4,
  "nbformat_minor": 0,
  "metadata": {
    "colab": {
      "provenance": []
    },
    "kernelspec": {
      "name": "python3",
      "display_name": "Python 3"
    },
    "language_info": {
      "name": "python"
    }
  },
  "cells": [
    {
      "cell_type": "markdown",
      "source": [
        "# Wine Quality Classification (Multi-Class Classification)\n",
        "Objective: Using chemical analysis to determine the origin of wines"
      ],
      "metadata": {
        "id": "ouMrUE8DGxRi"
      }
    },
    {
      "cell_type": "markdown",
      "source": [
        "### Data Processing"
      ],
      "metadata": {
        "id": "FcAO0__CXWFn"
      }
    },
    {
      "cell_type": "markdown",
      "source": [
        "Import the dataset from UCI Machine Learning Repository. ucimlrepo python package is used to easily import the dataset into the notebook"
      ],
      "metadata": {
        "id": "eaX0O8LWZB77"
      }
    },
    {
      "cell_type": "code",
      "execution_count": 2,
      "metadata": {
        "colab": {
          "base_uri": "https://localhost:8080/"
        },
        "id": "dgjNmisCGN7o",
        "outputId": "ef4cce12-8265-4079-f27f-a30fd9ead2c9"
      },
      "outputs": [
        {
          "output_type": "stream",
          "name": "stdout",
          "text": [
            "Collecting ucimlrepo\n",
            "  Downloading ucimlrepo-0.0.7-py3-none-any.whl.metadata (5.5 kB)\n",
            "Requirement already satisfied: pandas>=1.0.0 in /usr/local/lib/python3.11/dist-packages (from ucimlrepo) (2.2.2)\n",
            "Requirement already satisfied: certifi>=2020.12.5 in /usr/local/lib/python3.11/dist-packages (from ucimlrepo) (2024.12.14)\n",
            "Requirement already satisfied: numpy>=1.23.2 in /usr/local/lib/python3.11/dist-packages (from pandas>=1.0.0->ucimlrepo) (1.26.4)\n",
            "Requirement already satisfied: python-dateutil>=2.8.2 in /usr/local/lib/python3.11/dist-packages (from pandas>=1.0.0->ucimlrepo) (2.8.2)\n",
            "Requirement already satisfied: pytz>=2020.1 in /usr/local/lib/python3.11/dist-packages (from pandas>=1.0.0->ucimlrepo) (2024.2)\n",
            "Requirement already satisfied: tzdata>=2022.7 in /usr/local/lib/python3.11/dist-packages (from pandas>=1.0.0->ucimlrepo) (2024.2)\n",
            "Requirement already satisfied: six>=1.5 in /usr/local/lib/python3.11/dist-packages (from python-dateutil>=2.8.2->pandas>=1.0.0->ucimlrepo) (1.17.0)\n",
            "Downloading ucimlrepo-0.0.7-py3-none-any.whl (8.0 kB)\n",
            "Installing collected packages: ucimlrepo\n",
            "Successfully installed ucimlrepo-0.0.7\n"
          ]
        }
      ],
      "source": [
        "!pip install ucimlrepo"
      ]
    },
    {
      "cell_type": "code",
      "source": [
        "from ucimlrepo import fetch_ucirepo\n",
        "\n",
        "# fetch dataset\n",
        "wine = fetch_ucirepo(id=109)\n",
        "\n",
        "# data (as pandas dataframes)\n",
        "X = wine.data.features\n",
        "y = wine.data.targets\n",
        "\n",
        "# metadata\n",
        "print(wine.metadata)\n",
        "\n",
        "# variable information\n",
        "print(wine.variables)\n"
      ],
      "metadata": {
        "colab": {
          "base_uri": "https://localhost:8080/"
        },
        "id": "noZPnHKyYLjE",
        "outputId": "b12e7bcc-5902-4691-b903-52711be533a0"
      },
      "execution_count": 3,
      "outputs": [
        {
          "output_type": "stream",
          "name": "stdout",
          "text": [
            "{'uci_id': 109, 'name': 'Wine', 'repository_url': 'https://archive.ics.uci.edu/dataset/109/wine', 'data_url': 'https://archive.ics.uci.edu/static/public/109/data.csv', 'abstract': 'Using chemical analysis to determine the origin of wines', 'area': 'Physics and Chemistry', 'tasks': ['Classification'], 'characteristics': ['Tabular'], 'num_instances': 178, 'num_features': 13, 'feature_types': ['Integer', 'Real'], 'demographics': [], 'target_col': ['class'], 'index_col': None, 'has_missing_values': 'no', 'missing_values_symbol': None, 'year_of_dataset_creation': 1992, 'last_updated': 'Mon Aug 28 2023', 'dataset_doi': '10.24432/C5PC7J', 'creators': ['Stefan Aeberhard', 'M. Forina'], 'intro_paper': {'ID': 246, 'type': 'NATIVE', 'title': 'Comparative analysis of statistical pattern recognition methods in high dimensional settings', 'authors': 'S. Aeberhard, D. Coomans, O. Vel', 'venue': 'Pattern Recognition', 'year': 1994, 'journal': None, 'DOI': '10.1016/0031-3203(94)90145-7', 'URL': 'https://www.semanticscholar.org/paper/83dc3e4030d7b9fbdbb4bde03ce12ab70ca10528', 'sha': None, 'corpus': None, 'arxiv': None, 'mag': None, 'acl': None, 'pmid': None, 'pmcid': None}, 'additional_info': {'summary': 'These data are the results of a chemical analysis of wines grown in the same region in Italy but derived from three different cultivars. The analysis determined the quantities of 13 constituents found in each of the three types of wines. \\r\\n\\r\\nI think that the initial data set had around 30 variables, but for some reason I only have the 13 dimensional version. I had a list of what the 30 or so variables were, but a.)  I lost it, and b.), I would not know which 13 variables are included in the set.\\r\\n\\r\\nThe attributes are (dontated by Riccardo Leardi, riclea@anchem.unige.it )\\r\\n1) Alcohol\\r\\n2) Malic acid\\r\\n3) Ash\\r\\n4) Alcalinity of ash  \\r\\n5) Magnesium\\r\\n6) Total phenols\\r\\n7) Flavanoids\\r\\n8) Nonflavanoid phenols\\r\\n9) Proanthocyanins\\r\\n10)Color intensity\\r\\n11)Hue\\r\\n12)OD280/OD315 of diluted wines\\r\\n13)Proline \\r\\n\\r\\nIn a classification context, this is a well posed problem with \"well behaved\" class structures. A good data set for first testing of a new classifier, but not very challenging.           ', 'purpose': 'test', 'funded_by': None, 'instances_represent': None, 'recommended_data_splits': None, 'sensitive_data': None, 'preprocessing_description': None, 'variable_info': 'All attributes are continuous\\r\\n\\t\\r\\nNo statistics available, but suggest to standardise variables for certain uses (e.g. for us with classifiers which are NOT scale invariant)\\r\\n\\r\\nNOTE: 1st attribute is class identifier (1-3)', 'citation': None}}\n",
            "                            name     role         type demographic  \\\n",
            "0                          class   Target  Categorical        None   \n",
            "1                        Alcohol  Feature   Continuous        None   \n",
            "2                      Malicacid  Feature   Continuous        None   \n",
            "3                            Ash  Feature   Continuous        None   \n",
            "4              Alcalinity_of_ash  Feature   Continuous        None   \n",
            "5                      Magnesium  Feature      Integer        None   \n",
            "6                  Total_phenols  Feature   Continuous        None   \n",
            "7                     Flavanoids  Feature   Continuous        None   \n",
            "8           Nonflavanoid_phenols  Feature   Continuous        None   \n",
            "9                Proanthocyanins  Feature   Continuous        None   \n",
            "10               Color_intensity  Feature   Continuous        None   \n",
            "11                           Hue  Feature   Continuous        None   \n",
            "12  0D280_0D315_of_diluted_wines  Feature   Continuous        None   \n",
            "13                       Proline  Feature      Integer        None   \n",
            "\n",
            "   description units missing_values  \n",
            "0         None  None             no  \n",
            "1         None  None             no  \n",
            "2         None  None             no  \n",
            "3         None  None             no  \n",
            "4         None  None             no  \n",
            "5         None  None             no  \n",
            "6         None  None             no  \n",
            "7         None  None             no  \n",
            "8         None  None             no  \n",
            "9         None  None             no  \n",
            "10        None  None             no  \n",
            "11        None  None             no  \n",
            "12        None  None             no  \n",
            "13        None  None             no  \n"
          ]
        }
      ]
    },
    {
      "cell_type": "markdown",
      "source": [
        "TODO - Add a bit of EDA to crosscheck the dataset values - whether some are empty, duplicated, the correlation between them and whether to include all of them or not"
      ],
      "metadata": {
        "id": "khszOOAdgeDz"
      }
    },
    {
      "cell_type": "code",
      "source": [
        "print(X)\n",
        "print(X.duplicated())"
      ],
      "metadata": {
        "colab": {
          "base_uri": "https://localhost:8080/"
        },
        "id": "si-IPQ_dY64d",
        "outputId": "236b3a4b-9b7e-4a33-c290-dfd3362e7838"
      },
      "execution_count": 4,
      "outputs": [
        {
          "output_type": "stream",
          "name": "stdout",
          "text": [
            "     Alcohol  Malicacid   Ash  Alcalinity_of_ash  Magnesium  Total_phenols  \\\n",
            "0      14.23       1.71  2.43               15.6        127           2.80   \n",
            "1      13.20       1.78  2.14               11.2        100           2.65   \n",
            "2      13.16       2.36  2.67               18.6        101           2.80   \n",
            "3      14.37       1.95  2.50               16.8        113           3.85   \n",
            "4      13.24       2.59  2.87               21.0        118           2.80   \n",
            "..       ...        ...   ...                ...        ...            ...   \n",
            "173    13.71       5.65  2.45               20.5         95           1.68   \n",
            "174    13.40       3.91  2.48               23.0        102           1.80   \n",
            "175    13.27       4.28  2.26               20.0        120           1.59   \n",
            "176    13.17       2.59  2.37               20.0        120           1.65   \n",
            "177    14.13       4.10  2.74               24.5         96           2.05   \n",
            "\n",
            "     Flavanoids  Nonflavanoid_phenols  Proanthocyanins  Color_intensity   Hue  \\\n",
            "0          3.06                  0.28             2.29             5.64  1.04   \n",
            "1          2.76                  0.26             1.28             4.38  1.05   \n",
            "2          3.24                  0.30             2.81             5.68  1.03   \n",
            "3          3.49                  0.24             2.18             7.80  0.86   \n",
            "4          2.69                  0.39             1.82             4.32  1.04   \n",
            "..          ...                   ...              ...              ...   ...   \n",
            "173        0.61                  0.52             1.06             7.70  0.64   \n",
            "174        0.75                  0.43             1.41             7.30  0.70   \n",
            "175        0.69                  0.43             1.35            10.20  0.59   \n",
            "176        0.68                  0.53             1.46             9.30  0.60   \n",
            "177        0.76                  0.56             1.35             9.20  0.61   \n",
            "\n",
            "     0D280_0D315_of_diluted_wines  Proline  \n",
            "0                            3.92     1065  \n",
            "1                            3.40     1050  \n",
            "2                            3.17     1185  \n",
            "3                            3.45     1480  \n",
            "4                            2.93      735  \n",
            "..                            ...      ...  \n",
            "173                          1.74      740  \n",
            "174                          1.56      750  \n",
            "175                          1.56      835  \n",
            "176                          1.62      840  \n",
            "177                          1.60      560  \n",
            "\n",
            "[178 rows x 13 columns]\n",
            "0      False\n",
            "1      False\n",
            "2      False\n",
            "3      False\n",
            "4      False\n",
            "       ...  \n",
            "173    False\n",
            "174    False\n",
            "175    False\n",
            "176    False\n",
            "177    False\n",
            "Length: 178, dtype: bool\n"
          ]
        }
      ]
    },
    {
      "cell_type": "code",
      "source": [
        "print(y)"
      ],
      "metadata": {
        "colab": {
          "base_uri": "https://localhost:8080/"
        },
        "id": "-CsZZ9LDZHbM",
        "outputId": "52e3c49b-722f-404d-db61-d23786fd0c7a"
      },
      "execution_count": 5,
      "outputs": [
        {
          "output_type": "stream",
          "name": "stdout",
          "text": [
            "     class\n",
            "0        1\n",
            "1        1\n",
            "2        1\n",
            "3        1\n",
            "4        1\n",
            "..     ...\n",
            "173      3\n",
            "174      3\n",
            "175      3\n",
            "176      3\n",
            "177      3\n",
            "\n",
            "[178 rows x 1 columns]\n"
          ]
        }
      ]
    },
    {
      "cell_type": "code",
      "source": [
        "print(type(X), type(y))"
      ],
      "metadata": {
        "colab": {
          "base_uri": "https://localhost:8080/"
        },
        "id": "XBtUnUZTZS61",
        "outputId": "8c78084b-2062-46dc-871a-f3dd0740a533"
      },
      "execution_count": 6,
      "outputs": [
        {
          "output_type": "stream",
          "name": "stdout",
          "text": [
            "<class 'pandas.core.frame.DataFrame'> <class 'pandas.core.frame.DataFrame'>\n"
          ]
        }
      ]
    },
    {
      "cell_type": "markdown",
      "source": [
        "Print the labels present in the target class"
      ],
      "metadata": {
        "id": "dDBSerwGZo_q"
      }
    },
    {
      "cell_type": "code",
      "source": [
        "class_labels = y['class'].unique()\n",
        "print(class_labels)"
      ],
      "metadata": {
        "colab": {
          "base_uri": "https://localhost:8080/"
        },
        "id": "-lMwAzEOcwim",
        "outputId": "e0917668-7e04-4d19-a28a-d35222225d18"
      },
      "execution_count": 7,
      "outputs": [
        {
          "output_type": "stream",
          "name": "stdout",
          "text": [
            "[1 2 3]\n"
          ]
        }
      ]
    },
    {
      "cell_type": "markdown",
      "source": [
        "Split the data into train and test sets"
      ],
      "metadata": {
        "id": "CYthKP6VaTxg"
      }
    },
    {
      "cell_type": "code",
      "source": [
        "from sklearn.model_selection import train_test_split\n",
        "\n",
        "X_train, X_test, y_train, y_test = train_test_split(X,y, shuffle=True)"
      ],
      "metadata": {
        "id": "QLw34R82kyFl"
      },
      "execution_count": 8,
      "outputs": []
    },
    {
      "cell_type": "markdown",
      "source": [
        "Use MinMaxScaler to normalize the data"
      ],
      "metadata": {
        "id": "eT9YtSYXablx"
      }
    },
    {
      "cell_type": "code",
      "source": [
        "from sklearn.preprocessing import MinMaxScaler\n",
        "\n",
        "scaler = MinMaxScaler(feature_range=(0,1))\n",
        "X_train_normalized = scaler.fit_transform(X_train)"
      ],
      "metadata": {
        "id": "LrkZWSZadF1d"
      },
      "execution_count": 9,
      "outputs": []
    },
    {
      "cell_type": "markdown",
      "source": [
        "Normalization is done after train-test split to ensure that there is no leakage of data between the train and test sets."
      ],
      "metadata": {
        "id": "f-DnzZwscrui"
      }
    },
    {
      "cell_type": "markdown",
      "source": [
        "To ensure that all the input and target are in the same format, convert the targets to numpy arrays. (the input data is automatically converted to numpy array when the scaler is applied on them)"
      ],
      "metadata": {
        "id": "If8w3nSPalq6"
      }
    },
    {
      "cell_type": "code",
      "source": [
        "y_train = y_train.to_numpy()\n",
        "y_test = y_test.to_numpy()"
      ],
      "metadata": {
        "id": "7OofApnxl8Uz"
      },
      "execution_count": 10,
      "outputs": []
    },
    {
      "cell_type": "code",
      "source": [
        "print(type(X_train_normalized), type(y_train), type(y_test)) # ensuring that all variables are in same format"
      ],
      "metadata": {
        "colab": {
          "base_uri": "https://localhost:8080/"
        },
        "id": "PpZm-EyvmaFT",
        "outputId": "8ec9fc95-427e-4cca-c930-cfa54b31a8a0"
      },
      "execution_count": 11,
      "outputs": [
        {
          "output_type": "stream",
          "name": "stdout",
          "text": [
            "<class 'numpy.ndarray'> <class 'numpy.ndarray'> <class 'numpy.ndarray'>\n"
          ]
        }
      ]
    },
    {
      "cell_type": "markdown",
      "source": [
        "Perform one-hot encoding on the target variables"
      ],
      "metadata": {
        "id": "ZNSKicrpa0dY"
      }
    },
    {
      "cell_type": "code",
      "source": [
        "from sklearn.preprocessing import OneHotEncoder\n",
        "\n",
        "encoder = OneHotEncoder(sparse_output=False)\n",
        "y_train_encoded = encoder.fit_transform(y_train)  # do for both train and test targets\n",
        "y_test_encoded = encoder.fit_transform(y_test)"
      ],
      "metadata": {
        "id": "dC7yI1Srj1pt"
      },
      "execution_count": 12,
      "outputs": []
    },
    {
      "cell_type": "markdown",
      "source": [
        "### Creating the ANN"
      ],
      "metadata": {
        "id": "Ipe0RUPwXZnl"
      }
    },
    {
      "cell_type": "markdown",
      "source": [
        "Import neccessary modules for building the model"
      ],
      "metadata": {
        "id": "NiWP955Ea7uy"
      }
    },
    {
      "cell_type": "code",
      "source": [
        "import tensorflow as tf"
      ],
      "metadata": {
        "id": "sD9fIp4tleeF"
      },
      "execution_count": 13,
      "outputs": []
    },
    {
      "cell_type": "code",
      "source": [
        "from keras.layers import Dense, Input\n",
        "from keras.models import Sequential"
      ],
      "metadata": {
        "id": "LHSeerYUXbwd"
      },
      "execution_count": 14,
      "outputs": []
    },
    {
      "cell_type": "markdown",
      "source": [
        "Build a simple model with 2 hidden layers"
      ],
      "metadata": {
        "id": "jWKmwj6da_JR"
      }
    },
    {
      "cell_type": "code",
      "source": [
        "model = Sequential([\n",
        "    Input(shape=(13,)),\n",
        "    Dense(units=32,activation='relu'),\n",
        "    Dense(units=64,activation='relu'),\n",
        "    Dense(units=3,activation='softmax')\n",
        "])\n"
      ],
      "metadata": {
        "id": "T6RhE5g1gKoV"
      },
      "execution_count": 15,
      "outputs": []
    },
    {
      "cell_type": "code",
      "source": [
        "model.summary()"
      ],
      "metadata": {
        "colab": {
          "base_uri": "https://localhost:8080/",
          "height": 238
        },
        "id": "iCMo5mKckZGV",
        "outputId": "8a453d11-cbb8-41b2-8de4-30a67ffb1f63"
      },
      "execution_count": 16,
      "outputs": [
        {
          "output_type": "display_data",
          "data": {
            "text/plain": [
              "\u001b[1mModel: \"sequential\"\u001b[0m\n"
            ],
            "text/html": [
              "<pre style=\"white-space:pre;overflow-x:auto;line-height:normal;font-family:Menlo,'DejaVu Sans Mono',consolas,'Courier New',monospace\"><span style=\"font-weight: bold\">Model: \"sequential\"</span>\n",
              "</pre>\n"
            ]
          },
          "metadata": {}
        },
        {
          "output_type": "display_data",
          "data": {
            "text/plain": [
              "┏━━━━━━━━━━━━━━━━━━━━━━━━━━━━━━━━━━━━━━┳━━━━━━━━━━━━━━━━━━━━━━━━━━━━━┳━━━━━━━━━━━━━━━━━┓\n",
              "┃\u001b[1m \u001b[0m\u001b[1mLayer (type)                        \u001b[0m\u001b[1m \u001b[0m┃\u001b[1m \u001b[0m\u001b[1mOutput Shape               \u001b[0m\u001b[1m \u001b[0m┃\u001b[1m \u001b[0m\u001b[1m        Param #\u001b[0m\u001b[1m \u001b[0m┃\n",
              "┡━━━━━━━━━━━━━━━━━━━━━━━━━━━━━━━━━━━━━━╇━━━━━━━━━━━━━━━━━━━━━━━━━━━━━╇━━━━━━━━━━━━━━━━━┩\n",
              "│ dense (\u001b[38;5;33mDense\u001b[0m)                        │ (\u001b[38;5;45mNone\u001b[0m, \u001b[38;5;34m32\u001b[0m)                  │             \u001b[38;5;34m448\u001b[0m │\n",
              "├──────────────────────────────────────┼─────────────────────────────┼─────────────────┤\n",
              "│ dense_1 (\u001b[38;5;33mDense\u001b[0m)                      │ (\u001b[38;5;45mNone\u001b[0m, \u001b[38;5;34m64\u001b[0m)                  │           \u001b[38;5;34m2,112\u001b[0m │\n",
              "├──────────────────────────────────────┼─────────────────────────────┼─────────────────┤\n",
              "│ dense_2 (\u001b[38;5;33mDense\u001b[0m)                      │ (\u001b[38;5;45mNone\u001b[0m, \u001b[38;5;34m3\u001b[0m)                   │             \u001b[38;5;34m195\u001b[0m │\n",
              "└──────────────────────────────────────┴─────────────────────────────┴─────────────────┘\n"
            ],
            "text/html": [
              "<pre style=\"white-space:pre;overflow-x:auto;line-height:normal;font-family:Menlo,'DejaVu Sans Mono',consolas,'Courier New',monospace\">┏━━━━━━━━━━━━━━━━━━━━━━━━━━━━━━━━━━━━━━┳━━━━━━━━━━━━━━━━━━━━━━━━━━━━━┳━━━━━━━━━━━━━━━━━┓\n",
              "┃<span style=\"font-weight: bold\"> Layer (type)                         </span>┃<span style=\"font-weight: bold\"> Output Shape                </span>┃<span style=\"font-weight: bold\">         Param # </span>┃\n",
              "┡━━━━━━━━━━━━━━━━━━━━━━━━━━━━━━━━━━━━━━╇━━━━━━━━━━━━━━━━━━━━━━━━━━━━━╇━━━━━━━━━━━━━━━━━┩\n",
              "│ dense (<span style=\"color: #0087ff; text-decoration-color: #0087ff\">Dense</span>)                        │ (<span style=\"color: #00d7ff; text-decoration-color: #00d7ff\">None</span>, <span style=\"color: #00af00; text-decoration-color: #00af00\">32</span>)                  │             <span style=\"color: #00af00; text-decoration-color: #00af00\">448</span> │\n",
              "├──────────────────────────────────────┼─────────────────────────────┼─────────────────┤\n",
              "│ dense_1 (<span style=\"color: #0087ff; text-decoration-color: #0087ff\">Dense</span>)                      │ (<span style=\"color: #00d7ff; text-decoration-color: #00d7ff\">None</span>, <span style=\"color: #00af00; text-decoration-color: #00af00\">64</span>)                  │           <span style=\"color: #00af00; text-decoration-color: #00af00\">2,112</span> │\n",
              "├──────────────────────────────────────┼─────────────────────────────┼─────────────────┤\n",
              "│ dense_2 (<span style=\"color: #0087ff; text-decoration-color: #0087ff\">Dense</span>)                      │ (<span style=\"color: #00d7ff; text-decoration-color: #00d7ff\">None</span>, <span style=\"color: #00af00; text-decoration-color: #00af00\">3</span>)                   │             <span style=\"color: #00af00; text-decoration-color: #00af00\">195</span> │\n",
              "└──────────────────────────────────────┴─────────────────────────────┴─────────────────┘\n",
              "</pre>\n"
            ]
          },
          "metadata": {}
        },
        {
          "output_type": "display_data",
          "data": {
            "text/plain": [
              "\u001b[1m Total params: \u001b[0m\u001b[38;5;34m2,755\u001b[0m (10.76 KB)\n"
            ],
            "text/html": [
              "<pre style=\"white-space:pre;overflow-x:auto;line-height:normal;font-family:Menlo,'DejaVu Sans Mono',consolas,'Courier New',monospace\"><span style=\"font-weight: bold\"> Total params: </span><span style=\"color: #00af00; text-decoration-color: #00af00\">2,755</span> (10.76 KB)\n",
              "</pre>\n"
            ]
          },
          "metadata": {}
        },
        {
          "output_type": "display_data",
          "data": {
            "text/plain": [
              "\u001b[1m Trainable params: \u001b[0m\u001b[38;5;34m2,755\u001b[0m (10.76 KB)\n"
            ],
            "text/html": [
              "<pre style=\"white-space:pre;overflow-x:auto;line-height:normal;font-family:Menlo,'DejaVu Sans Mono',consolas,'Courier New',monospace\"><span style=\"font-weight: bold\"> Trainable params: </span><span style=\"color: #00af00; text-decoration-color: #00af00\">2,755</span> (10.76 KB)\n",
              "</pre>\n"
            ]
          },
          "metadata": {}
        },
        {
          "output_type": "display_data",
          "data": {
            "text/plain": [
              "\u001b[1m Non-trainable params: \u001b[0m\u001b[38;5;34m0\u001b[0m (0.00 B)\n"
            ],
            "text/html": [
              "<pre style=\"white-space:pre;overflow-x:auto;line-height:normal;font-family:Menlo,'DejaVu Sans Mono',consolas,'Courier New',monospace\"><span style=\"font-weight: bold\"> Non-trainable params: </span><span style=\"color: #00af00; text-decoration-color: #00af00\">0</span> (0.00 B)\n",
              "</pre>\n"
            ]
          },
          "metadata": {}
        }
      ]
    },
    {
      "cell_type": "markdown",
      "source": [
        "Compile the model by specifying optimizer, loss functions and metrics"
      ],
      "metadata": {
        "id": "tlxsVua7bDYK"
      }
    },
    {
      "cell_type": "code",
      "source": [
        "model.compile(\n",
        "    optimizer= tf.keras.optimizers.Adam(),\n",
        "    loss=tf.keras.losses.CategoricalCrossentropy(),\n",
        "    metrics=['acc']\n",
        ")"
      ],
      "metadata": {
        "id": "yCs8OwMGkn-U"
      },
      "execution_count": 17,
      "outputs": []
    },
    {
      "cell_type": "markdown",
      "source": [
        "### Training the ANN"
      ],
      "metadata": {
        "id": "IP-BCYitXcHE"
      }
    },
    {
      "cell_type": "markdown",
      "source": [
        "Train the ANN for 30 epochs in 16 batches, with a validation split of 10%"
      ],
      "metadata": {
        "id": "lAqNJuMwbL_p"
      }
    },
    {
      "cell_type": "code",
      "source": [
        "model.fit(X_train_normalized,y_train_encoded,batch_size=16,epochs=30,validation_split=0.1)"
      ],
      "metadata": {
        "colab": {
          "base_uri": "https://localhost:8080/"
        },
        "id": "F8rPir9xXdaN",
        "outputId": "adc4b9e2-8760-4f8f-c93d-6b14aefc8910"
      },
      "execution_count": 18,
      "outputs": [
        {
          "output_type": "stream",
          "name": "stdout",
          "text": [
            "Epoch 1/30\n",
            "\u001b[1m8/8\u001b[0m \u001b[32m━━━━━━━━━━━━━━━━━━━━\u001b[0m\u001b[37m\u001b[0m \u001b[1m2s\u001b[0m 29ms/step - acc: 0.2515 - loss: 1.2236 - val_acc: 0.2857 - val_loss: 1.1274\n",
            "Epoch 2/30\n",
            "\u001b[1m8/8\u001b[0m \u001b[32m━━━━━━━━━━━━━━━━━━━━\u001b[0m\u001b[37m\u001b[0m \u001b[1m0s\u001b[0m 5ms/step - acc: 0.2611 - loss: 1.1211 - val_acc: 0.6429 - val_loss: 1.0577\n",
            "Epoch 3/30\n",
            "\u001b[1m8/8\u001b[0m \u001b[32m━━━━━━━━━━━━━━━━━━━━\u001b[0m\u001b[37m\u001b[0m \u001b[1m0s\u001b[0m 6ms/step - acc: 0.6554 - loss: 1.0549 - val_acc: 0.7857 - val_loss: 1.0059\n",
            "Epoch 4/30\n",
            "\u001b[1m8/8\u001b[0m \u001b[32m━━━━━━━━━━━━━━━━━━━━\u001b[0m\u001b[37m\u001b[0m \u001b[1m0s\u001b[0m 5ms/step - acc: 0.6617 - loss: 1.0005 - val_acc: 0.7857 - val_loss: 0.9509\n",
            "Epoch 5/30\n",
            "\u001b[1m8/8\u001b[0m \u001b[32m━━━━━━━━━━━━━━━━━━━━\u001b[0m\u001b[37m\u001b[0m \u001b[1m0s\u001b[0m 5ms/step - acc: 0.7094 - loss: 0.9539 - val_acc: 0.7857 - val_loss: 0.8908\n",
            "Epoch 6/30\n",
            "\u001b[1m8/8\u001b[0m \u001b[32m━━━━━━━━━━━━━━━━━━━━\u001b[0m\u001b[37m\u001b[0m \u001b[1m0s\u001b[0m 5ms/step - acc: 0.7151 - loss: 0.9074 - val_acc: 0.9286 - val_loss: 0.8211\n",
            "Epoch 7/30\n",
            "\u001b[1m8/8\u001b[0m \u001b[32m━━━━━━━━━━━━━━━━━━━━\u001b[0m\u001b[37m\u001b[0m \u001b[1m0s\u001b[0m 6ms/step - acc: 0.8717 - loss: 0.8425 - val_acc: 0.9286 - val_loss: 0.7414\n",
            "Epoch 8/30\n",
            "\u001b[1m8/8\u001b[0m \u001b[32m━━━━━━━━━━━━━━━━━━━━\u001b[0m\u001b[37m\u001b[0m \u001b[1m0s\u001b[0m 5ms/step - acc: 0.8886 - loss: 0.7504 - val_acc: 1.0000 - val_loss: 0.6583\n",
            "Epoch 9/30\n",
            "\u001b[1m8/8\u001b[0m \u001b[32m━━━━━━━━━━━━━━━━━━━━\u001b[0m\u001b[37m\u001b[0m \u001b[1m0s\u001b[0m 6ms/step - acc: 0.9523 - loss: 0.6923 - val_acc: 1.0000 - val_loss: 0.5740\n",
            "Epoch 10/30\n",
            "\u001b[1m8/8\u001b[0m \u001b[32m━━━━━━━━━━━━━━━━━━━━\u001b[0m\u001b[37m\u001b[0m \u001b[1m0s\u001b[0m 6ms/step - acc: 0.9429 - loss: 0.6247 - val_acc: 1.0000 - val_loss: 0.4912\n",
            "Epoch 11/30\n",
            "\u001b[1m8/8\u001b[0m \u001b[32m━━━━━━━━━━━━━━━━━━━━\u001b[0m\u001b[37m\u001b[0m \u001b[1m0s\u001b[0m 6ms/step - acc: 0.9593 - loss: 0.5296 - val_acc: 1.0000 - val_loss: 0.4134\n",
            "Epoch 12/30\n",
            "\u001b[1m8/8\u001b[0m \u001b[32m━━━━━━━━━━━━━━━━━━━━\u001b[0m\u001b[37m\u001b[0m \u001b[1m0s\u001b[0m 5ms/step - acc: 0.9721 - loss: 0.4465 - val_acc: 1.0000 - val_loss: 0.3451\n",
            "Epoch 13/30\n",
            "\u001b[1m8/8\u001b[0m \u001b[32m━━━━━━━━━━━━━━━━━━━━\u001b[0m\u001b[37m\u001b[0m \u001b[1m0s\u001b[0m 5ms/step - acc: 0.9524 - loss: 0.4188 - val_acc: 1.0000 - val_loss: 0.2829\n",
            "Epoch 14/30\n",
            "\u001b[1m8/8\u001b[0m \u001b[32m━━━━━━━━━━━━━━━━━━━━\u001b[0m\u001b[37m\u001b[0m \u001b[1m0s\u001b[0m 8ms/step - acc: 0.9818 - loss: 0.3507 - val_acc: 1.0000 - val_loss: 0.2330\n",
            "Epoch 15/30\n",
            "\u001b[1m8/8\u001b[0m \u001b[32m━━━━━━━━━━━━━━━━━━━━\u001b[0m\u001b[37m\u001b[0m \u001b[1m0s\u001b[0m 5ms/step - acc: 0.9564 - loss: 0.3231 - val_acc: 1.0000 - val_loss: 0.1989\n",
            "Epoch 16/30\n",
            "\u001b[1m8/8\u001b[0m \u001b[32m━━━━━━━━━━━━━━━━━━━━\u001b[0m\u001b[37m\u001b[0m \u001b[1m0s\u001b[0m 5ms/step - acc: 0.9497 - loss: 0.2742 - val_acc: 1.0000 - val_loss: 0.1616\n",
            "Epoch 17/30\n",
            "\u001b[1m8/8\u001b[0m \u001b[32m━━━━━━━━━━━━━━━━━━━━\u001b[0m\u001b[37m\u001b[0m \u001b[1m0s\u001b[0m 8ms/step - acc: 0.9709 - loss: 0.2420 - val_acc: 1.0000 - val_loss: 0.1358\n",
            "Epoch 18/30\n",
            "\u001b[1m8/8\u001b[0m \u001b[32m━━━━━━━━━━━━━━━━━━━━\u001b[0m\u001b[37m\u001b[0m \u001b[1m0s\u001b[0m 6ms/step - acc: 0.9593 - loss: 0.2433 - val_acc: 1.0000 - val_loss: 0.1144\n",
            "Epoch 19/30\n",
            "\u001b[1m8/8\u001b[0m \u001b[32m━━━━━━━━━━━━━━━━━━━━\u001b[0m\u001b[37m\u001b[0m \u001b[1m0s\u001b[0m 5ms/step - acc: 0.9589 - loss: 0.2170 - val_acc: 1.0000 - val_loss: 0.0988\n",
            "Epoch 20/30\n",
            "\u001b[1m8/8\u001b[0m \u001b[32m━━━━━━━━━━━━━━━━━━━━\u001b[0m\u001b[37m\u001b[0m \u001b[1m0s\u001b[0m 5ms/step - acc: 0.9534 - loss: 0.1859 - val_acc: 1.0000 - val_loss: 0.0905\n",
            "Epoch 21/30\n",
            "\u001b[1m8/8\u001b[0m \u001b[32m━━━━━━━━━━━━━━━━━━━━\u001b[0m\u001b[37m\u001b[0m \u001b[1m0s\u001b[0m 6ms/step - acc: 0.9647 - loss: 0.1728 - val_acc: 1.0000 - val_loss: 0.0750\n",
            "Epoch 22/30\n",
            "\u001b[1m8/8\u001b[0m \u001b[32m━━━━━━━━━━━━━━━━━━━━\u001b[0m\u001b[37m\u001b[0m \u001b[1m0s\u001b[0m 6ms/step - acc: 0.9647 - loss: 0.1566 - val_acc: 1.0000 - val_loss: 0.0694\n",
            "Epoch 23/30\n",
            "\u001b[1m8/8\u001b[0m \u001b[32m━━━━━━━━━━━━━━━━━━━━\u001b[0m\u001b[37m\u001b[0m \u001b[1m0s\u001b[0m 7ms/step - acc: 0.9624 - loss: 0.1548 - val_acc: 1.0000 - val_loss: 0.0620\n",
            "Epoch 24/30\n",
            "\u001b[1m8/8\u001b[0m \u001b[32m━━━━━━━━━━━━━━━━━━━━\u001b[0m\u001b[37m\u001b[0m \u001b[1m0s\u001b[0m 5ms/step - acc: 0.9757 - loss: 0.1383 - val_acc: 1.0000 - val_loss: 0.0571\n",
            "Epoch 25/30\n",
            "\u001b[1m8/8\u001b[0m \u001b[32m━━━━━━━━━━━━━━━━━━━━\u001b[0m\u001b[37m\u001b[0m \u001b[1m0s\u001b[0m 5ms/step - acc: 0.9773 - loss: 0.1414 - val_acc: 1.0000 - val_loss: 0.0514\n",
            "Epoch 26/30\n",
            "\u001b[1m8/8\u001b[0m \u001b[32m━━━━━━━━━━━━━━━━━━━━\u001b[0m\u001b[37m\u001b[0m \u001b[1m0s\u001b[0m 5ms/step - acc: 0.9707 - loss: 0.1542 - val_acc: 1.0000 - val_loss: 0.0482\n",
            "Epoch 27/30\n",
            "\u001b[1m8/8\u001b[0m \u001b[32m━━━━━━━━━━━━━━━━━━━━\u001b[0m\u001b[37m\u001b[0m \u001b[1m0s\u001b[0m 6ms/step - acc: 0.9865 - loss: 0.1083 - val_acc: 1.0000 - val_loss: 0.0449\n",
            "Epoch 28/30\n",
            "\u001b[1m8/8\u001b[0m \u001b[32m━━━━━━━━━━━━━━━━━━━━\u001b[0m\u001b[37m\u001b[0m \u001b[1m0s\u001b[0m 6ms/step - acc: 0.9773 - loss: 0.1236 - val_acc: 1.0000 - val_loss: 0.0498\n",
            "Epoch 29/30\n",
            "\u001b[1m8/8\u001b[0m \u001b[32m━━━━━━━━━━━━━━━━━━━━\u001b[0m\u001b[37m\u001b[0m \u001b[1m0s\u001b[0m 6ms/step - acc: 0.9801 - loss: 0.1238 - val_acc: 1.0000 - val_loss: 0.0396\n",
            "Epoch 30/30\n",
            "\u001b[1m8/8\u001b[0m \u001b[32m━━━━━━━━━━━━━━━━━━━━\u001b[0m\u001b[37m\u001b[0m \u001b[1m0s\u001b[0m 6ms/step - acc: 0.9875 - loss: 0.1126 - val_acc: 1.0000 - val_loss: 0.0353\n"
          ]
        },
        {
          "output_type": "execute_result",
          "data": {
            "text/plain": [
              "<keras.src.callbacks.history.History at 0x792247f0c9d0>"
            ]
          },
          "metadata": {},
          "execution_count": 18
        }
      ]
    },
    {
      "cell_type": "markdown",
      "source": [
        "### NN evaluation"
      ],
      "metadata": {
        "id": "imd-MF8ymTGs"
      }
    },
    {
      "cell_type": "markdown",
      "source": [
        "Normalize the test input data"
      ],
      "metadata": {
        "id": "hXEM5Hr4bTzB"
      }
    },
    {
      "cell_type": "code",
      "source": [
        "X_test_normalized = scaler.fit_transform(X_test)"
      ],
      "metadata": {
        "id": "Qb0uexN8msKz"
      },
      "execution_count": 19,
      "outputs": []
    },
    {
      "cell_type": "markdown",
      "source": [
        "Evaluate the model and get the test loss and accuracy"
      ],
      "metadata": {
        "id": "uQWCN_uKbZrr"
      }
    },
    {
      "cell_type": "code",
      "source": [
        "test_loss, test_acc = model.evaluate(X_test_normalized, y_test_encoded)\n",
        "print(f\"Test accuracy: {test_acc:.4f}\")\n",
        "print(f\"Test loss: {test_loss:.4f}\")"
      ],
      "metadata": {
        "colab": {
          "base_uri": "https://localhost:8080/"
        },
        "id": "Ky3s1tdgmVE1",
        "outputId": "d9476a19-ea3f-4fc7-8f43-490cf691722b"
      },
      "execution_count": 20,
      "outputs": [
        {
          "output_type": "stream",
          "name": "stdout",
          "text": [
            "\u001b[1m2/2\u001b[0m \u001b[32m━━━━━━━━━━━━━━━━━━━━\u001b[0m\u001b[37m\u001b[0m \u001b[1m0s\u001b[0m 6ms/step - acc: 0.9095 - loss: 0.1863 \n",
            "Test accuracy: 0.9111\n",
            "Test loss: 0.1783\n"
          ]
        }
      ]
    },
    {
      "cell_type": "markdown",
      "source": [
        "### NN Predictions"
      ],
      "metadata": {
        "id": "MkNFTPj3XjMV"
      }
    },
    {
      "cell_type": "code",
      "source": [
        "# importing numpy library\n",
        "\n",
        "import numpy as np"
      ],
      "metadata": {
        "id": "mgsc-56Qomez"
      },
      "execution_count": 21,
      "outputs": []
    },
    {
      "cell_type": "markdown",
      "source": [
        "Get the inference for the test input data set"
      ],
      "metadata": {
        "id": "8et3VFvKbiLR"
      }
    },
    {
      "cell_type": "code",
      "source": [
        "predictions = model.predict(X_test_normalized) # Gives the probabilities of each sample belonging to either of the classes\n",
        "\n",
        "# Convert the probabilities into labels based on which class probability is highest\n",
        "rounded_predictions = np.argmax(predictions, axis = -1)\n",
        "predicted_label = rounded_predictions # saving it for future use"
      ],
      "metadata": {
        "id": "dLhhOt99XqtF",
        "colab": {
          "base_uri": "https://localhost:8080/"
        },
        "outputId": "d6702a21-5025-4093-8022-75f76ecf16fb"
      },
      "execution_count": 53,
      "outputs": [
        {
          "output_type": "stream",
          "name": "stdout",
          "text": [
            "\u001b[1m2/2\u001b[0m \u001b[32m━━━━━━━━━━━━━━━━━━━━\u001b[0m\u001b[37m\u001b[0m \u001b[1m0s\u001b[0m 8ms/step \n"
          ]
        }
      ]
    },
    {
      "cell_type": "markdown",
      "source": [
        "Convert it into one-hot encoded labels for ease in comparison to existing test labels"
      ],
      "metadata": {
        "id": "vc6dwymecEDB"
      }
    },
    {
      "cell_type": "code",
      "source": [
        "rounded_predictions = (predictions > 0.5).astype(int) # threshold is chosen as 0.5\n"
      ],
      "metadata": {
        "id": "OxPFf2gbrcx7"
      },
      "execution_count": 25,
      "outputs": []
    },
    {
      "cell_type": "markdown",
      "source": [
        "Print the classification report"
      ],
      "metadata": {
        "id": "mt2ok3WpcVF5"
      }
    },
    {
      "cell_type": "code",
      "source": [
        "from sklearn.metrics import classification_report\n",
        "report = classification_report(y_test_encoded, rounded_predictions, target_names=[\"Class 1\",\"Class 2\", \"Class 3\"])"
      ],
      "metadata": {
        "id": "RzSXe7SFrADT",
        "colab": {
          "base_uri": "https://localhost:8080/"
        },
        "outputId": "eab7f8c0-ac39-4e3d-8b6d-c05af69c9c11"
      },
      "execution_count": 26,
      "outputs": [
        {
          "output_type": "stream",
          "name": "stderr",
          "text": [
            "/usr/local/lib/python3.11/dist-packages/sklearn/metrics/_classification.py:1565: UndefinedMetricWarning: Precision is ill-defined and being set to 0.0 in samples with no predicted labels. Use `zero_division` parameter to control this behavior.\n",
            "  _warn_prf(average, modifier, f\"{metric.capitalize()} is\", len(result))\n"
          ]
        }
      ]
    },
    {
      "cell_type": "code",
      "source": [
        "print(\"Classification Report:\\n\", report)"
      ],
      "metadata": {
        "colab": {
          "base_uri": "https://localhost:8080/"
        },
        "id": "DmrJ2Je7r6PL",
        "outputId": "9d1e6b07-3d6e-4f9f-e8ed-f0293c3ef77d"
      },
      "execution_count": 27,
      "outputs": [
        {
          "output_type": "stream",
          "name": "stdout",
          "text": [
            "Classification Report:\n",
            "               precision    recall  f1-score   support\n",
            "\n",
            "     Class 1       1.00      0.94      0.97        17\n",
            "     Class 2       0.93      0.82      0.88        17\n",
            "     Class 3       0.85      1.00      0.92        11\n",
            "\n",
            "   micro avg       0.93      0.91      0.92        45\n",
            "   macro avg       0.93      0.92      0.92        45\n",
            "weighted avg       0.94      0.91      0.92        45\n",
            " samples avg       0.91      0.91      0.91        45\n",
            "\n"
          ]
        }
      ]
    },
    {
      "cell_type": "markdown",
      "source": [
        "* Precision is high across all classes, especially for Class 1 with 1.00, meaning the model predicts very few false positives.\n",
        "* Recall for Class 1 (0.86) is somewhat lower than for Class 3 (0.94), indicating that the model might miss a few Class 1 instances but is good at capturing Class 3.\n",
        "* The F1-Scores are all strong (ranging from 0.84 to 0.92), showing a balanced performance between Precision and Recall.\n"
      ],
      "metadata": {
        "id": "Cya-P5wGhRjC"
      }
    },
    {
      "cell_type": "markdown",
      "source": [
        "### Confusion matrix"
      ],
      "metadata": {
        "id": "oxujT5EwXlXV"
      }
    },
    {
      "cell_type": "code",
      "source": [
        "import matplotlib.pyplot as plt\n",
        "from sklearn.metrics import confusion_matrix, ConfusionMatrixDisplay"
      ],
      "metadata": {
        "id": "CQpz8Z3VXrBt"
      },
      "execution_count": 28,
      "outputs": []
    },
    {
      "cell_type": "code",
      "source": [
        "# Converting the predicted one-hot encoded labels back to labels among 1, 2 or 3\n",
        "\n",
        "decoded_label = []\n",
        "for i in predicted_label:\n",
        "  i = i+1\n",
        "  decoded_label.append(i)\n",
        "\n",
        "# Converting the predicted label list into a numpy array\n",
        "decoded_label = np.array(decoded_label)"
      ],
      "metadata": {
        "id": "sFoQnG7GcpSM"
      },
      "execution_count": 54,
      "outputs": []
    },
    {
      "cell_type": "code",
      "source": [
        "cm = confusion_matrix(y_test.reshape(-1), decoded_label)"
      ],
      "metadata": {
        "id": "rxPDji4VnsS7"
      },
      "execution_count": 56,
      "outputs": []
    },
    {
      "cell_type": "code",
      "source": [
        "print(cm)"
      ],
      "metadata": {
        "colab": {
          "base_uri": "https://localhost:8080/"
        },
        "id": "UBCqzHFzdVOx",
        "outputId": "a5c3837f-a8ff-4ef8-8e31-9fdf2d0a529e"
      },
      "execution_count": 57,
      "outputs": [
        {
          "output_type": "stream",
          "name": "stdout",
          "text": [
            "[[16  1  0]\n",
            " [ 1 14  2]\n",
            " [ 0  0 11]]\n"
          ]
        }
      ]
    },
    {
      "cell_type": "markdown",
      "source": [
        "Display the Confusion Matrix"
      ],
      "metadata": {
        "id": "XS7HwVz9jI76"
      }
    },
    {
      "cell_type": "code",
      "source": [
        "from sklearn.metrics import ConfusionMatrixDisplay\n",
        "import matplotlib as plt\n",
        "\n",
        "disp = ConfusionMatrixDisplay(cm, display_labels=['Class 1','Class 2','Class 3'])\n",
        "\n",
        "disp.plot(cmap = plt.cm.Blues)"
      ],
      "metadata": {
        "colab": {
          "base_uri": "https://localhost:8080/",
          "height": 472
        },
        "id": "YKSs2ZqugrpK",
        "outputId": "9dacddcd-7f7f-4a32-81c5-4b0cec9458a5"
      },
      "execution_count": 55,
      "outputs": [
        {
          "output_type": "execute_result",
          "data": {
            "text/plain": [
              "<sklearn.metrics._plot.confusion_matrix.ConfusionMatrixDisplay at 0x79223055aa10>"
            ]
          },
          "metadata": {},
          "execution_count": 55
        },
        {
          "output_type": "display_data",
          "data": {
            "text/plain": [
              "<Figure size 640x480 with 2 Axes>"
            ],
            "image/png": "[encoded data removed]"
          },
          "metadata": {}
        }
      ]
    },
    {
      "cell_type": "markdown",
      "source": [
        "### Save and load the model"
      ],
      "metadata": {
        "id": "RqYPu1Y_Xnl1"
      }
    },
    {
      "cell_type": "markdown",
      "source": [
        "Saving the whole model (architecture and weights) as .hdf5 file"
      ],
      "metadata": {
        "id": "Rq0HbeDpj-dB"
      }
    },
    {
      "cell_type": "code",
      "source": [
        "import os.path\n",
        "\n",
        "# Check if model is already saved, if not then save the model in .hdf5 format\n",
        "if not os.path.isfile('models/wine_classification.hdf5'):\n",
        "  model.save('models/wine_classification.hdf5')"
      ],
      "metadata": {
        "id": "gEXZtWXJXrXt",
        "colab": {
          "base_uri": "https://localhost:8080/"
        },
        "outputId": "f1136cc1-dbc4-48ae-98bf-e25073aacfc4"
      },
      "execution_count": 58,
      "outputs": [
        {
          "output_type": "stream",
          "name": "stderr",
          "text": [
            "WARNING:absl:You are saving your model as an HDF5 file via `model.save()` or `keras.saving.save_model(model)`. This file format is considered legacy. We recommend using instead the native Keras format, e.g. `model.save('my_model.keras')` or `keras.saving.save_model(model, 'my_model.keras')`. \n"
          ]
        }
      ]
    },
    {
      "cell_type": "markdown",
      "source": [
        "Loading the saved model"
      ],
      "metadata": {
        "id": "nJFOeHL5kD1K"
      }
    },
    {
      "cell_type": "code",
      "source": [
        "from tensorflow.keras.models import load_model\n",
        "\n",
        "new_model = load_model('models/wine_classification.hdf5')"
      ],
      "metadata": {
        "colab": {
          "base_uri": "https://localhost:8080/"
        },
        "id": "4gfmzWqSj8c5",
        "outputId": "ccf7323b-e68b-42df-a4ff-ad200727f2bc"
      },
      "execution_count": 64,
      "outputs": [
        {
          "output_type": "stream",
          "name": "stderr",
          "text": [
            "WARNING:absl:Compiled the loaded model, but the compiled metrics have yet to be built. `model.compile_metrics` will be empty until you train or evaluate the model.\n"
          ]
        }
      ]
    },
    {
      "cell_type": "code",
      "source": [
        "# Print the summary to verify model architecture\n",
        "\n",
        "new_model.summary()"
      ],
      "metadata": {
        "colab": {
          "base_uri": "https://localhost:8080/",
          "height": 255
        },
        "id": "_IWY-RwFkoM5",
        "outputId": "155133f4-1161-4062-f72f-e55cc8aa4cb6"
      },
      "execution_count": 65,
      "outputs": [
        {
          "output_type": "display_data",
          "data": {
            "text/plain": [
              "\u001b[1mModel: \"sequential\"\u001b[0m\n"
            ],
            "text/html": [
              "<pre style=\"white-space:pre;overflow-x:auto;line-height:normal;font-family:Menlo,'DejaVu Sans Mono',consolas,'Courier New',monospace\"><span style=\"font-weight: bold\">Model: \"sequential\"</span>\n",
              "</pre>\n"
            ]
          },
          "metadata": {}
        },
        {
          "output_type": "display_data",
          "data": {
            "text/plain": [
              "┏━━━━━━━━━━━━━━━━━━━━━━━━━━━━━━━━━━━━━━┳━━━━━━━━━━━━━━━━━━━━━━━━━━━━━┳━━━━━━━━━━━━━━━━━┓\n",
              "┃\u001b[1m \u001b[0m\u001b[1mLayer (type)                        \u001b[0m\u001b[1m \u001b[0m┃\u001b[1m \u001b[0m\u001b[1mOutput Shape               \u001b[0m\u001b[1m \u001b[0m┃\u001b[1m \u001b[0m\u001b[1m        Param #\u001b[0m\u001b[1m \u001b[0m┃\n",
              "┡━━━━━━━━━━━━━━━━━━━━━━━━━━━━━━━━━━━━━━╇━━━━━━━━━━━━━━━━━━━━━━━━━━━━━╇━━━━━━━━━━━━━━━━━┩\n",
              "│ dense (\u001b[38;5;33mDense\u001b[0m)                        │ (\u001b[38;5;45mNone\u001b[0m, \u001b[38;5;34m32\u001b[0m)                  │             \u001b[38;5;34m448\u001b[0m │\n",
              "├──────────────────────────────────────┼─────────────────────────────┼─────────────────┤\n",
              "│ dense_1 (\u001b[38;5;33mDense\u001b[0m)                      │ (\u001b[38;5;45mNone\u001b[0m, \u001b[38;5;34m64\u001b[0m)                  │           \u001b[38;5;34m2,112\u001b[0m │\n",
              "├──────────────────────────────────────┼─────────────────────────────┼─────────────────┤\n",
              "│ dense_2 (\u001b[38;5;33mDense\u001b[0m)                      │ (\u001b[38;5;45mNone\u001b[0m, \u001b[38;5;34m3\u001b[0m)                   │             \u001b[38;5;34m195\u001b[0m │\n",
              "└──────────────────────────────────────┴─────────────────────────────┴─────────────────┘\n"
            ],
            "text/html": [
              "<pre style=\"white-space:pre;overflow-x:auto;line-height:normal;font-family:Menlo,'DejaVu Sans Mono',consolas,'Courier New',monospace\">┏━━━━━━━━━━━━━━━━━━━━━━━━━━━━━━━━━━━━━━┳━━━━━━━━━━━━━━━━━━━━━━━━━━━━━┳━━━━━━━━━━━━━━━━━┓\n",
              "┃<span style=\"font-weight: bold\"> Layer (type)                         </span>┃<span style=\"font-weight: bold\"> Output Shape                </span>┃<span style=\"font-weight: bold\">         Param # </span>┃\n",
              "┡━━━━━━━━━━━━━━━━━━━━━━━━━━━━━━━━━━━━━━╇━━━━━━━━━━━━━━━━━━━━━━━━━━━━━╇━━━━━━━━━━━━━━━━━┩\n",
              "│ dense (<span style=\"color: #0087ff; text-decoration-color: #0087ff\">Dense</span>)                        │ (<span style=\"color: #00d7ff; text-decoration-color: #00d7ff\">None</span>, <span style=\"color: #00af00; text-decoration-color: #00af00\">32</span>)                  │             <span style=\"color: #00af00; text-decoration-color: #00af00\">448</span> │\n",
              "├──────────────────────────────────────┼─────────────────────────────┼─────────────────┤\n",
              "│ dense_1 (<span style=\"color: #0087ff; text-decoration-color: #0087ff\">Dense</span>)                      │ (<span style=\"color: #00d7ff; text-decoration-color: #00d7ff\">None</span>, <span style=\"color: #00af00; text-decoration-color: #00af00\">64</span>)                  │           <span style=\"color: #00af00; text-decoration-color: #00af00\">2,112</span> │\n",
              "├──────────────────────────────────────┼─────────────────────────────┼─────────────────┤\n",
              "│ dense_2 (<span style=\"color: #0087ff; text-decoration-color: #0087ff\">Dense</span>)                      │ (<span style=\"color: #00d7ff; text-decoration-color: #00d7ff\">None</span>, <span style=\"color: #00af00; text-decoration-color: #00af00\">3</span>)                   │             <span style=\"color: #00af00; text-decoration-color: #00af00\">195</span> │\n",
              "└──────────────────────────────────────┴─────────────────────────────┴─────────────────┘\n",
              "</pre>\n"
            ]
          },
          "metadata": {}
        },
        {
          "output_type": "display_data",
          "data": {
            "text/plain": [
              "\u001b[1m Total params: \u001b[0m\u001b[38;5;34m2,757\u001b[0m (10.77 KB)\n"
            ],
            "text/html": [
              "<pre style=\"white-space:pre;overflow-x:auto;line-height:normal;font-family:Menlo,'DejaVu Sans Mono',consolas,'Courier New',monospace\"><span style=\"font-weight: bold\"> Total params: </span><span style=\"color: #00af00; text-decoration-color: #00af00\">2,757</span> (10.77 KB)\n",
              "</pre>\n"
            ]
          },
          "metadata": {}
        },
        {
          "output_type": "display_data",
          "data": {
            "text/plain": [
              "\u001b[1m Trainable params: \u001b[0m\u001b[38;5;34m2,755\u001b[0m (10.76 KB)\n"
            ],
            "text/html": [
              "<pre style=\"white-space:pre;overflow-x:auto;line-height:normal;font-family:Menlo,'DejaVu Sans Mono',consolas,'Courier New',monospace\"><span style=\"font-weight: bold\"> Trainable params: </span><span style=\"color: #00af00; text-decoration-color: #00af00\">2,755</span> (10.76 KB)\n",
              "</pre>\n"
            ]
          },
          "metadata": {}
        },
        {
          "output_type": "display_data",
          "data": {
            "text/plain": [
              "\u001b[1m Non-trainable params: \u001b[0m\u001b[38;5;34m0\u001b[0m (0.00 B)\n"
            ],
            "text/html": [
              "<pre style=\"white-space:pre;overflow-x:auto;line-height:normal;font-family:Menlo,'DejaVu Sans Mono',consolas,'Courier New',monospace\"><span style=\"font-weight: bold\"> Non-trainable params: </span><span style=\"color: #00af00; text-decoration-color: #00af00\">0</span> (0.00 B)\n",
              "</pre>\n"
            ]
          },
          "metadata": {}
        },
        {
          "output_type": "display_data",
          "data": {
            "text/plain": [
              "\u001b[1m Optimizer params: \u001b[0m\u001b[38;5;34m2\u001b[0m (12.00 B)\n"
            ],
            "text/html": [
              "<pre style=\"white-space:pre;overflow-x:auto;line-height:normal;font-family:Menlo,'DejaVu Sans Mono',consolas,'Courier New',monospace\"><span style=\"font-weight: bold\"> Optimizer params: </span><span style=\"color: #00af00; text-decoration-color: #00af00\">2</span> (12.00 B)\n",
              "</pre>\n"
            ]
          },
          "metadata": {}
        }
      ]
    },
    {
      "cell_type": "code",
      "source": [
        "# Print the model weights\n",
        "\n",
        "new_model.get_weights()"
      ],
      "metadata": {
        "colab": {
          "base_uri": "https://localhost:8080/"
        },
        "id": "HS8mdWj1kt-R",
        "outputId": "d0bc4629-a5c9-4875-e41e-e1cce7b00b5b"
      },
      "execution_count": 66,
      "outputs": [
        {
          "output_type": "execute_result",
          "data": {
            "text/plain": [
              "[array([[-2.66725987e-01,  3.78681749e-01, -1.09671712e-01,\n",
              "          4.90390084e-06,  3.21155459e-01,  8.93033743e-02,\n",
              "         -3.18250537e-01, -4.76735532e-02,  3.67463946e-01,\n",
              "          3.35702837e-01, -3.62402201e-02,  1.45573299e-02,\n",
              "          3.45092952e-01,  1.82026088e-01, -2.56043762e-01,\n",
              "          3.74916643e-01, -2.15967864e-01, -3.09194565e-01,\n",
              "          7.42817074e-02,  1.30360872e-01,  2.04679281e-01,\n",
              "          2.50519127e-01,  4.27296609e-01,  2.39027396e-01,\n",
              "         -3.10722440e-01,  3.75044256e-01, -1.57586426e-01,\n",
              "          2.95460314e-01,  1.31678700e-01, -3.01736712e-01,\n",
              "         -2.48754337e-01, -7.31292963e-02],\n",
              "        [ 1.02776706e-01, -1.28598288e-01,  9.15282071e-02,\n",
              "         -1.33573011e-01,  2.45557144e-01, -2.56890059e-01,\n",
              "          1.94068536e-01, -1.09075785e-01,  4.87214059e-01,\n",
              "         -1.24413848e-01,  2.39097476e-01,  2.57410318e-01,\n",
              "          2.91997138e-02, -3.10439199e-01,  1.55505955e-01,\n",
              "          3.47651899e-01, -2.12751061e-01, -3.42869490e-01,\n",
              "         -2.07685545e-01, -1.92414105e-01,  1.90634001e-02,\n",
              "          2.96822816e-01,  2.25308925e-01,  1.96505606e-01,\n",
              "          2.41033912e-01, -4.38450128e-01,  7.59925023e-02,\n",
              "          3.80667448e-02,  1.73707575e-01, -5.56148738e-02,\n",
              "         -3.51168424e-01,  3.29073578e-01],\n",
              "        [ 1.50429532e-01,  6.81136400e-02, -2.20927268e-01,\n",
              "          1.85535476e-01,  1.98382840e-01, -2.56360948e-01,\n",
              "          2.24516988e-01, -6.23512268e-02,  3.13243985e-01,\n",
              "         -1.98239341e-01, -3.15886319e-01,  2.33949888e-02,\n",
              "         -1.22878440e-01,  1.30337715e-01,  1.05578147e-01,\n",
              "         -6.33729175e-02, -2.39972502e-01, -3.10268067e-02,\n",
              "         -3.93412173e-01,  2.58279324e-01,  8.06094781e-02,\n",
              "         -1.80109844e-01, -2.80283809e-01,  4.82327729e-01,\n",
              "          2.73222566e-01,  2.21149866e-02, -3.76730800e-01,\n",
              "         -1.63041115e-01, -1.18082277e-01,  3.17182355e-02,\n",
              "          2.65362948e-01,  4.62427959e-02],\n",
              "        [-7.98067020e-04, -1.63432658e-01, -2.34933764e-01,\n",
              "         -7.37393945e-02,  3.37265015e-01,  1.21267051e-01,\n",
              "          3.56890820e-02, -1.14630938e-01, -2.61817455e-01,\n",
              "         -2.62026936e-01, -2.57787555e-01, -2.58386254e-01,\n",
              "          4.06452179e-01,  1.20595902e-01,  1.02179594e-01,\n",
              "          1.75683498e-01, -1.32171258e-01,  1.84796527e-01,\n",
              "          1.33260608e-01, -7.97664225e-02, -1.82465669e-02,\n",
              "         -1.73707858e-01,  2.75824666e-01, -1.52888894e-01,\n",
              "         -1.17229126e-01,  2.62756366e-03, -1.89640567e-01,\n",
              "         -1.22693419e-01, -1.41096294e-01,  2.55066961e-01,\n",
              "          2.95973778e-01,  3.31199132e-02],\n",
              "        [ 6.83328882e-02, -1.14749540e-02, -1.83458060e-01,\n",
              "          2.48460636e-01,  3.82432580e-01, -3.00745964e-01,\n",
              "          9.19327661e-02, -3.07726264e-02, -1.33040741e-01,\n",
              "         -1.13647461e-01,  1.63968742e-01, -6.79999217e-02,\n",
              "         -2.60452002e-01, -3.15361738e-01, -8.92215744e-02,\n",
              "          3.19449812e-01, -2.02645436e-01,  1.08360276e-01,\n",
              "         -1.07789285e-01, -1.93790153e-01, -6.54840916e-02,\n",
              "         -5.17522655e-02,  2.69788295e-01,  1.83570072e-01,\n",
              "          1.89333141e-01,  5.70561402e-02, -3.22844014e-02,\n",
              "          2.95032054e-01,  2.57441133e-01,  2.83464849e-01,\n",
              "         -3.32423598e-01, -2.40163863e-01],\n",
              "        [-2.76567880e-02,  2.04347908e-01,  1.45855621e-01,\n",
              "          3.35538268e-01,  8.22434276e-02, -1.94566354e-01,\n",
              "          1.86854228e-01, -2.31148809e-01,  3.21972191e-01,\n",
              "          2.50930965e-01, -3.05780113e-01, -3.84489149e-01,\n",
              "         -2.49279603e-01, -1.57573864e-01,  3.21902454e-01,\n",
              "         -3.87614481e-02, -2.07813993e-01, -9.08858106e-02,\n",
              "          2.21468776e-01, -2.35507548e-01, -1.06859118e-01,\n",
              "         -3.63873720e-01,  3.97761256e-01,  1.09965280e-01,\n",
              "          2.79172868e-01,  2.10527360e-01, -3.23169798e-01,\n",
              "         -1.94179475e-01,  9.97781307e-02,  1.53950661e-01,\n",
              "          2.16295555e-01,  7.90033266e-02],\n",
              "        [ 1.29925057e-01,  1.12750037e-02,  2.23945513e-01,\n",
              "          3.29112649e-01, -2.70638674e-01, -2.47001573e-01,\n",
              "         -1.00957351e-02, -3.57589543e-01, -1.11127824e-01,\n",
              "          5.64527512e-03,  3.10373485e-01,  1.09006494e-01,\n",
              "         -4.01960999e-01, -3.11984211e-01,  8.19121599e-02,\n",
              "         -4.31471676e-01, -2.70280123e-01, -2.53372997e-01,\n",
              "          2.96453863e-01, -1.57364920e-01,  2.15327144e-01,\n",
              "         -2.08690658e-01,  1.26003204e-02, -3.22712392e-01,\n",
              "         -1.98775843e-01,  4.57133979e-01, -3.63732010e-01,\n",
              "          8.90172422e-02, -2.68959645e-02,  2.17373401e-01,\n",
              "         -1.26460955e-01,  2.59379059e-01],\n",
              "        [ 3.25633943e-01, -1.84396431e-01, -2.62123883e-01,\n",
              "         -1.88545555e-01, -1.30404532e-01, -2.48890042e-01,\n",
              "         -1.90828651e-01, -3.41508597e-01,  1.45690469e-02,\n",
              "         -3.46098661e-01, -3.43196660e-01,  2.86694139e-01,\n",
              "          6.58460427e-03, -3.41364682e-01,  3.85517478e-01,\n",
              "          1.60197794e-01, -2.44438663e-01,  4.91264127e-02,\n",
              "          1.11782052e-01, -2.65546858e-01, -2.93088555e-01,\n",
              "         -6.86932206e-02, -9.08085480e-02,  1.17093608e-01,\n",
              "          2.42060810e-01,  9.05025471e-03,  2.74723798e-01,\n",
              "         -4.73809429e-02, -1.03328072e-01, -1.78048104e-01,\n",
              "         -2.80240983e-01,  3.63330811e-01],\n",
              "        [-2.09078833e-01,  1.21741481e-01,  2.72965223e-01,\n",
              "          1.19483724e-01,  6.18039481e-02, -2.97518373e-01,\n",
              "          3.50744158e-01, -7.91778266e-02,  8.77632648e-02,\n",
              "         -7.23743141e-02,  2.43516386e-01, -3.12793523e-01,\n",
              "         -2.25306958e-01, -3.40552270e-01,  3.55361044e-01,\n",
              "          1.26033470e-01, -5.75166345e-02,  4.04044509e-01,\n",
              "         -2.50953466e-01, -3.38439345e-01, -1.21120177e-01,\n",
              "          2.51988441e-01,  3.93838525e-01, -2.94053227e-01,\n",
              "         -3.94055732e-02, -1.98055416e-01,  1.56526268e-01,\n",
              "          2.12156430e-01,  3.00000757e-01,  2.93900400e-01,\n",
              "         -6.56679645e-02,  3.16771746e-01],\n",
              "        [-1.86995715e-01, -2.20808789e-01,  4.52027947e-01,\n",
              "         -2.47366711e-01, -4.71453257e-02, -2.32058212e-01,\n",
              "         -8.55531320e-02,  1.59270883e-01,  4.38701570e-01,\n",
              "         -3.41828436e-01, -9.52345133e-03,  3.62969279e-01,\n",
              "          3.78858387e-01,  1.35298193e-01,  5.69844246e-02,\n",
              "         -7.14548603e-02, -1.88212678e-01, -2.56459177e-01,\n",
              "          1.69387981e-01, -1.43797398e-02,  3.84419173e-01,\n",
              "         -1.18617572e-01, -4.06659208e-02, -2.86691766e-02,\n",
              "         -2.04353958e-01, -9.25349370e-02,  8.39410350e-02,\n",
              "         -1.82868447e-02,  4.79649514e-01,  2.44110122e-01,\n",
              "         -5.28687797e-03, -3.62120837e-01],\n",
              "        [ 4.46674913e-01,  3.74802679e-01, -1.34940356e-01,\n",
              "          3.56728494e-01, -3.83374691e-01,  2.42708623e-01,\n",
              "          2.95303732e-01,  1.14236653e-01, -1.83645651e-01,\n",
              "         -8.36167336e-02, -3.29714566e-01,  2.64792025e-01,\n",
              "          2.90227115e-01, -2.13329792e-02,  3.60612005e-01,\n",
              "         -2.44523421e-01, -4.53313589e-02,  2.03886698e-03,\n",
              "         -2.90731370e-01,  2.16411531e-01, -5.24831749e-02,\n",
              "         -1.18689395e-01,  1.33281156e-01,  2.22230330e-01,\n",
              "         -9.17355940e-02,  3.03124413e-02,  2.84359545e-01,\n",
              "          3.49720448e-01,  2.17961892e-01,  3.15528326e-02,\n",
              "         -2.12519646e-01,  3.15572135e-02],\n",
              "        [ 7.27540329e-02,  8.39142352e-02,  2.76675582e-01,\n",
              "          3.03945482e-01, -3.11875612e-01, -3.64010036e-02,\n",
              "         -2.19195068e-01, -2.26587653e-01, -2.69094557e-01,\n",
              "         -1.49504185e-01, -2.58630365e-01,  2.08894223e-01,\n",
              "         -1.17378339e-01, -1.28656372e-01,  4.66970235e-01,\n",
              "         -2.45559886e-01, -4.39709723e-02,  3.95092130e-01,\n",
              "         -1.90104976e-01, -1.99327648e-01,  3.83391589e-01,\n",
              "         -3.11364204e-01, -1.18813105e-01, -2.13183641e-01,\n",
              "          3.35985333e-01,  3.89740378e-01, -5.56656420e-02,\n",
              "          8.78790393e-02, -2.64667094e-01, -1.37626171e-01,\n",
              "          1.58167496e-01,  9.67313200e-02],\n",
              "        [-2.97410339e-01,  3.83049436e-02,  3.20448309e-01,\n",
              "          3.62147577e-02,  8.10486963e-04,  4.51231003e-03,\n",
              "         -3.90630305e-01, -3.55027080e-01,  3.86943147e-02,\n",
              "         -1.90178633e-01,  7.12966323e-02, -2.87774712e-01,\n",
              "         -4.70499359e-02, -8.63005817e-02, -6.42054081e-02,\n",
              "         -2.65694678e-01, -3.47311467e-01,  5.68007976e-02,\n",
              "          2.06343960e-02,  1.50817275e-01,  4.14732873e-01,\n",
              "         -1.03157178e-01,  2.13935897e-01,  3.72912973e-01,\n",
              "         -3.74981940e-01,  8.61072261e-03,  1.86667785e-01,\n",
              "          2.07186267e-01,  1.23333178e-01, -4.07851905e-01,\n",
              "          2.85678148e-01, -2.85925061e-01]], dtype=float32),\n",
              " array([ 0.11534473,  0.07192276,  0.01070252,  0.03781394,  0.09507527,\n",
              "         0.        ,  0.12523936,  0.        , -0.03909386,  0.        ,\n",
              "         0.        ,  0.06401192,  0.12942286,  0.        ,  0.11410076,\n",
              "         0.07451199,  0.        ,  0.11333337, -0.03197595,  0.        ,\n",
              "        -0.01700618, -0.03112267, -0.02596776,  0.04752535,  0.1174408 ,\n",
              "         0.04422498, -0.03689073, -0.02537326,  0.00601306,  0.0620206 ,\n",
              "        -0.01746433,  0.069705  ], dtype=float32),\n",
              " array([[ 1.0271734e-02,  3.3764642e-01,  3.1163454e-02, ...,\n",
              "          1.3667990e-01,  4.0130386e-01,  1.9750094e-01],\n",
              "        [ 1.5496989e-01,  1.6646133e-01, -5.2268889e-02, ...,\n",
              "         -2.3745345e-04, -1.6637266e-01, -1.2273233e-01],\n",
              "        [-8.1531323e-02, -4.5014955e-02, -2.3191546e-01, ...,\n",
              "         -2.8583193e-01, -1.4205480e-01, -1.2016186e-01],\n",
              "        ...,\n",
              "        [-5.8196146e-02,  2.0102248e-01,  1.1006290e-01, ...,\n",
              "         -5.3069372e-02,  2.9457363e-01,  1.3718335e-01],\n",
              "        [ 4.6039980e-02,  1.8829153e-01,  6.2239915e-03, ...,\n",
              "          1.7073329e-01,  1.7334294e-01,  2.4224939e-03],\n",
              "        [-1.5952261e-01,  2.7692142e-01,  6.1459158e-02, ...,\n",
              "          2.1616906e-01,  3.5421237e-01,  1.5011576e-01]], dtype=float32),\n",
              " array([ 0.03672965,  0.079573  ,  0.077439  , -0.00880458, -0.0126385 ,\n",
              "         0.03499589,  0.00756964,  0.08481877, -0.03391411, -0.04689908,\n",
              "         0.08648432, -0.03772122,  0.07661673, -0.03415278, -0.03981154,\n",
              "        -0.01734348,  0.03835114,  0.06400224, -0.03664214,  0.05102091,\n",
              "        -0.0576124 ,  0.09845923,  0.08064754,  0.10891081,  0.08720239,\n",
              "         0.07028756,  0.07361943,  0.02642703, -0.00685863,  0.1306712 ,\n",
              "         0.05756342, -0.00153865, -0.00953624, -0.03860009, -0.00850057,\n",
              "        -0.02396288,  0.01737115, -0.05015329, -0.05256005,  0.08878392,\n",
              "        -0.0082472 , -0.01949957, -0.05101486,  0.02764537,  0.06947613,\n",
              "         0.        ,  0.06266743, -0.0262829 ,  0.        ,  0.11763778,\n",
              "         0.04269118,  0.01244903, -0.03701229,  0.04657773,  0.06329893,\n",
              "         0.08237819, -0.00325249,  0.01256702,  0.05896122, -0.01641265,\n",
              "         0.02270947,  0.03099703,  0.11977281, -0.04435783], dtype=float32),\n",
              " array([[ 0.3171525 ,  0.14287362, -0.2235438 ],\n",
              "        [-0.45958462,  0.43308902, -0.1667624 ],\n",
              "        [-0.44633412, -0.4101213 ,  0.16442916],\n",
              "        [ 0.26358715, -0.3997766 ,  0.30146047],\n",
              "        [-0.20033212,  0.2598254 ,  0.2664952 ],\n",
              "        [ 0.05457697, -0.41576385,  0.4244993 ],\n",
              "        [-0.36359528,  0.11840319,  0.21037124],\n",
              "        [-0.30809215,  0.3086803 , -0.00080584],\n",
              "        [-0.10990408, -0.07496991, -0.20944564],\n",
              "        [ 0.13423172, -0.03202997, -0.12545395],\n",
              "        [ 0.1222485 ,  0.3512966 , -0.4170548 ],\n",
              "        [-0.13233294, -0.03459206,  0.10313411],\n",
              "        [-0.3879321 ,  0.16647196, -0.22220254],\n",
              "        [-0.06945836, -0.05279333,  0.04959589],\n",
              "        [ 0.1524926 , -0.23057774,  0.04219186],\n",
              "        [-0.11848049, -0.30292946,  0.15173559],\n",
              "        [ 0.23778404, -0.21704032,  0.33636937],\n",
              "        [ 0.01486869,  0.15456276, -0.33189598],\n",
              "        [ 0.28964114, -0.36808878,  0.28228724],\n",
              "        [ 0.11549906,  0.10517824, -0.17074884],\n",
              "        [ 0.24482726, -0.14260325, -0.17486733],\n",
              "        [ 0.21671644,  0.12065907, -0.15261678],\n",
              "        [-0.19917323,  0.23386279, -0.38188237],\n",
              "        [-0.3588721 ,  0.17167327,  0.27714482],\n",
              "        [-0.10502532,  0.3735961 , -0.2997275 ],\n",
              "        [-0.37785235,  0.01150829,  0.24237956],\n",
              "        [-0.2656191 ,  0.29994106, -0.4021082 ],\n",
              "        [ 0.12379274, -0.37533483,  0.40233722],\n",
              "        [ 0.34663963, -0.25953472, -0.13827445],\n",
              "        [-0.22617744,  0.2416959 ,  0.2604362 ],\n",
              "        [-0.06779698,  0.1449971 , -0.37285322],\n",
              "        [ 0.39282367, -0.20106402, -0.38858256],\n",
              "        [ 0.27257296,  0.07480207, -0.06364215],\n",
              "        [ 0.00246488, -0.4246048 , -0.19145462],\n",
              "        [ 0.29517943,  0.25333905, -0.03543179],\n",
              "        [ 0.11353149, -0.25617725, -0.24581142],\n",
              "        [-0.20234126,  0.40394115,  0.08245385],\n",
              "        [ 0.1939198 , -0.33656362,  0.03095597],\n",
              "        [ 0.3445607 ,  0.0944801 ,  0.168281  ],\n",
              "        [ 0.02901234,  0.38132417, -0.3118423 ],\n",
              "        [ 0.08671506, -0.1912506 ,  0.31307933],\n",
              "        [ 0.20332134,  0.18859361,  0.05971014],\n",
              "        [-0.31554818, -0.20892243,  0.20303042],\n",
              "        [-0.3888438 ,  0.17772947,  0.18520989],\n",
              "        [ 0.41237897,  0.27853787, -0.28304374],\n",
              "        [-0.07210985,  0.24447405, -0.04847422],\n",
              "        [-0.4120832 ,  0.1904474 , -0.32475895],\n",
              "        [ 0.33158556, -0.3341734 ,  0.27871668],\n",
              "        [ 0.16369161, -0.01385438,  0.04633859],\n",
              "        [-0.3645923 ,  0.19489329,  0.37279668],\n",
              "        [-0.4233713 ,  0.12128351,  0.19183938],\n",
              "        [-0.16976628, -0.2371428 ,  0.19909798],\n",
              "        [-0.11655553, -0.2952595 ,  0.3206285 ],\n",
              "        [ 0.35906833,  0.31013852, -0.19443932],\n",
              "        [-0.1020446 ,  0.06856667, -0.1935549 ],\n",
              "        [-0.45763814, -0.19397187,  0.08864253],\n",
              "        [ 0.2286092 ,  0.2849941 , -0.20103696],\n",
              "        [ 0.37160018, -0.07571652, -0.3463894 ],\n",
              "        [-0.25908217,  0.13923606, -0.33900064],\n",
              "        [ 0.26245698,  0.07322802,  0.03769616],\n",
              "        [-0.27932534,  0.18506321,  0.2712282 ],\n",
              "        [-0.32525504,  0.04216361,  0.22597846],\n",
              "        [-0.14047278,  0.45876405, -0.08882781],\n",
              "        [-0.22586678, -0.1667042 ,  0.24237704]], dtype=float32),\n",
              " array([-0.01396792,  0.04818434, -0.03726301], dtype=float32)]"
            ]
          },
          "metadata": {},
          "execution_count": 66
        }
      ]
    }
  ]
}